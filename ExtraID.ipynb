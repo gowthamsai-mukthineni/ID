{
 "cells": [
  {
   "cell_type": "code",
   "execution_count": 6,
   "id": "dbaef45d",
   "metadata": {},
   "outputs": [],
   "source": [
    "import os\n",
    "import pandas as pd\n",
    "from PIL import Image, ImageDraw, ImageFont\n",
    "from reportlab.pdfgen import canvas"
   ]
  },
  {
   "cell_type": "code",
   "execution_count": 40,
   "id": "fb6a55a7",
   "metadata": {},
   "outputs": [],
   "source": [
    "def load_data(csv_file):\n",
    "    return pd.read_csv(\"C:/Users/saiku/Downloads/Card.csv\")\n",
    "\n",
    "\n",
    "def create_id_card(template_path, photo_path, name, title, output_path):\n",
    "    try:\n",
    "      \n",
    "        template = Image.open(\"C:/Users/saiku/OneDrive/Desktop/ImagesforID/ute_id_template.png\").convert(\"RGBA\")\n",
    "        photo = Image.open(photo_path).resize((150, 150)) \n",
    "        \n",
    "       \n",
    "        template.paste(photo, (140, 30))  \n",
    "        draw = ImageDraw.Draw(template)\n",
    "        font = ImageFont.load_default()\n",
    "      \n",
    "        draw.text((160, 160), name, font=font, fill=\"white\")\n",
    "        draw.text((180, 180), title, font=font, fill=\"black\")\n",
    "        \n",
    "        template.save(output_path)\n",
    "        return output_path\n",
    "    except Exception as e:\n",
    "        print(f\"Error creating ID card: {e}\")\n",
    "        return None"
   ]
  },
  {
   "cell_type": "code",
   "execution_count": 41,
   "id": "fb2421db",
   "metadata": {},
   "outputs": [],
   "source": [
    "def create_pdf(csv_file, template_img, pdf_file):\n",
    "    data = load_data(csv_file)\n",
    "    c = canvas.Canvas(pdf_file)\n",
    "    \n",
    "    for index, row in data.iterrows():\n",
    "        img_path = create_id_card(template_img, row['Photo'], row['Name'], row['Title'], f\"temp_{index}.png\")\n",
    "        if img_path:\n",
    "            c.setPageSize((612, 792))  \n",
    "            c.drawImage(img_path, 0, 0, width=612, height=792)\n",
    "            c.showPage()\n",
    "            os.remove(img_path)  \n",
    "    \n",
    "    c.save()\n",
    "\n",
    "\n",
    "if __name__ == \"__main__\":\n",
    "    csv_file_path = \"employees.csv\"\n",
    "    template_image_path = \"ute_id_template.png\"\n",
    "    output_pdf_file = \"employee1_ids.pdf\"\n",
    "    \n",
    "    create_pdf(csv_file_path, template_image_path, output_pdf_file)"
   ]
  },
  {
   "cell_type": "code",
   "execution_count": null,
   "id": "b9a144b3",
   "metadata": {},
   "outputs": [],
   "source": []
  },
  {
   "cell_type": "code",
   "execution_count": 1,
   "id": "47365f24",
   "metadata": {},
   "outputs": [
    {
     "name": "stdout",
     "output_type": "stream",
     "text": [
      "Error creating ID card: No photo found at C:/Users/saiku/OneDrive/Desktop/photo.jpg\n"
     ]
    }
   ],
   "source": []
  },
  {
   "cell_type": "code",
   "execution_count": null,
   "id": "5b7853dd",
   "metadata": {},
   "outputs": [],
   "source": []
  }
 ],
 "metadata": {
  "kernelspec": {
   "display_name": "Python 3 (ipykernel)",
   "language": "python",
   "name": "python3"
  },
  "language_info": {
   "codemirror_mode": {
    "name": "ipython",
    "version": 3
   },
   "file_extension": ".py",
   "mimetype": "text/x-python",
   "name": "python",
   "nbconvert_exporter": "python",
   "pygments_lexer": "ipython3",
   "version": "3.11.4"
  }
 },
 "nbformat": 4,
 "nbformat_minor": 5
}
